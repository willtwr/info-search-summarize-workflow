{
 "cells": [
  {
   "cell_type": "markdown",
   "id": "b09a1252",
   "metadata": {},
   "source": [
    "# Docling testing script\n",
    "\n",
    "Extract structured data from PDF using docling."
   ]
  },
  {
   "cell_type": "code",
   "execution_count": null,
   "id": "532b2ad3",
   "metadata": {},
   "outputs": [],
   "source": [
    "from pathlib import Path\n",
    "from docling.document_converter import DocumentConverter, PdfFormatOption\n",
    "from docling.datamodel.pipeline_options import PdfPipelineOptions\n",
    "from docling.datamodel.base_models import InputFormat\n",
    "from docling_core.types.doc import ImageRefMode, PictureItem, TableItem\n",
    "from docling.datamodel.settings import settings"
   ]
  },
  {
   "cell_type": "markdown",
   "id": "fed63d79",
   "metadata": {},
   "source": [
    "## File path"
   ]
  },
  {
   "cell_type": "code",
   "execution_count": null,
   "id": "874c04f8",
   "metadata": {},
   "outputs": [],
   "source": [
    "file_path = \"/mnt/c/Users/User/Downloads/codes/sample pdf/pwc-my-centrestage-budget-2025.pdf\""
   ]
  },
  {
   "cell_type": "markdown",
   "id": "657387f6",
   "metadata": {},
   "source": [
    "## Extract data from PDF using docling"
   ]
  },
  {
   "cell_type": "code",
   "execution_count": null,
   "id": "5b2eec2e",
   "metadata": {},
   "outputs": [],
   "source": [
    "pipeline_options = PdfPipelineOptions()\n",
    "pipeline_options.generate_page_images = True\n",
    "pipeline_options.generate_picture_images = True\n",
    "converter = DocumentConverter(\n",
    "    format_options={\n",
    "        InputFormat.PDF: PdfFormatOption(pipeline_options=pipeline_options)\n",
    "    }\n",
    ")\n",
    "\n",
    "# Enable Profiling\n",
    "settings.debug.profile_pipeline_timings = True"
   ]
  },
  {
   "cell_type": "code",
   "execution_count": null,
   "id": "31699141",
   "metadata": {},
   "outputs": [],
   "source": [
    "result = converter.convert(file_path)"
   ]
  },
  {
   "cell_type": "code",
   "execution_count": null,
   "id": "2b3d2194",
   "metadata": {},
   "outputs": [],
   "source": [
    "doc_conversion_secs = result.timings[\"pipeline_total\"].times\n",
    "print(f\"Conversion secs: {doc_conversion_secs}\")"
   ]
  },
  {
   "cell_type": "markdown",
   "id": "e857f814",
   "metadata": {},
   "source": [
    "## Create folders"
   ]
  },
  {
   "cell_type": "code",
   "execution_count": null,
   "id": "d20b7ef4",
   "metadata": {},
   "outputs": [],
   "source": [
    "output_dir = Path(\"extracted_images/docling\")\n",
    "output_dir.mkdir(parents=True, exist_ok=True)"
   ]
  },
  {
   "cell_type": "markdown",
   "id": "ae8438ef",
   "metadata": {},
   "source": [
    "## Save pages as images\n",
    "\n",
    "Manually save each page as image."
   ]
  },
  {
   "cell_type": "code",
   "execution_count": null,
   "id": "b9227c59",
   "metadata": {},
   "outputs": [],
   "source": [
    "for page_no, page in result.document.pages.items():\n",
    "        page_no = page.page_no\n",
    "        page_image_filename = output_dir / f\"pwc-my-centrestage-budget-2025-{page_no}.png\"\n",
    "        with page_image_filename.open(\"wb\") as fp:\n",
    "            page.image.pil_image.save(fp, format=\"PNG\")"
   ]
  },
  {
   "cell_type": "markdown",
   "id": "6c7e8587",
   "metadata": {},
   "source": [
    "## Save figures as images\n",
    "\n",
    "Manually save the figures in the pages as images."
   ]
  },
  {
   "cell_type": "code",
   "execution_count": null,
   "id": "a00f2768",
   "metadata": {},
   "outputs": [],
   "source": [
    "table_counter = 0\n",
    "picture_counter = 0\n",
    "for element, _ in result.document.iterate_items():\n",
    "    if isinstance(element, TableItem):\n",
    "        table_counter += 1\n",
    "        element_image_filename = (\n",
    "            output_dir / f\"pwc-my-centrestage-budget-2025-table-{table_counter}.png\"\n",
    "        )\n",
    "        with element_image_filename.open(\"wb\") as fp:\n",
    "            element.get_image(result.document).save(fp, \"PNG\")\n",
    "\n",
    "    if isinstance(element, PictureItem):\n",
    "        picture_counter += 1\n",
    "        element_image_filename = (\n",
    "            output_dir / f\"pwc-my-centrestage-budget-2025-picture-{picture_counter}.png\"\n",
    "        )\n",
    "        with element_image_filename.open(\"wb\") as fp:\n",
    "            element.get_image(result.document).save(fp, \"PNG\")"
   ]
  },
  {
   "cell_type": "markdown",
   "id": "d76d659c",
   "metadata": {},
   "source": [
    "## Save to markdown file\n",
    "\n",
    "This function includes saving figures as images and reference them."
   ]
  },
  {
   "cell_type": "code",
   "execution_count": null,
   "id": "f5af2f48",
   "metadata": {},
   "outputs": [],
   "source": [
    "md_filename = output_dir / \"pwc-my-centrestage-budget-2025-picture-with-image-refs.md\"\n",
    "result.document.save_as_markdown(md_filename, image_mode=ImageRefMode.REFERENCED)"
   ]
  },
  {
   "cell_type": "markdown",
   "id": "debd42d2",
   "metadata": {},
   "source": [
    "## Print markdown directly\n",
    "\n",
    "This function does NOT save the figures as images and reference them."
   ]
  },
  {
   "cell_type": "code",
   "execution_count": null,
   "id": "1af6a1c2",
   "metadata": {},
   "outputs": [],
   "source": [
    "md = result.document.export_to_markdown(page_break_placeholder=\"<!-- page break -->\")\n",
    "print(md)"
   ]
  },
  {
   "cell_type": "code",
   "execution_count": null,
   "id": "ec699a17",
   "metadata": {},
   "outputs": [],
   "source": [
    "md_remove_img = md.replace(\"<!-- image -->\\n\\n\", \"\")\n",
    "print(md_remove_img)"
   ]
  },
  {
   "cell_type": "code",
   "execution_count": null,
   "id": "c32ec203",
   "metadata": {},
   "outputs": [],
   "source": [
    "md_split = [pg.strip() for pg in md_remove_img.split(\"<!-- page break -->\\n\\n\")]\n",
    "for i, pg in enumerate(md_split):\n",
    "    print(f\"PAGE {i + 1}:\\n\")\n",
    "    print(pg)"
   ]
  }
 ],
 "metadata": {
  "kernelspec": {
   "display_name": "ocr",
   "language": "python",
   "name": "python3"
  },
  "language_info": {
   "codemirror_mode": {
    "name": "ipython",
    "version": 3
   },
   "file_extension": ".py",
   "mimetype": "text/x-python",
   "name": "python",
   "nbconvert_exporter": "python",
   "pygments_lexer": "ipython3",
   "version": "3.11.11"
  }
 },
 "nbformat": 4,
 "nbformat_minor": 5
}
