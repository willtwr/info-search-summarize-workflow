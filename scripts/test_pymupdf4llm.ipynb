{
 "cells": [
  {
   "cell_type": "markdown",
   "id": "ada1d033",
   "metadata": {},
   "source": [
    "# PyMuPDF4LLM testing script\n",
    "\n",
    "Extract structured data from PDf using PyMuPDF4LLM.\n",
    "\n",
    "Note: AGPL-3.0 licensed."
   ]
  },
  {
   "cell_type": "code",
   "execution_count": null,
   "id": "a29a3e0c",
   "metadata": {},
   "outputs": [],
   "source": [
    "import pymupdf4llm"
   ]
  },
  {
   "cell_type": "markdown",
   "id": "99e8c283",
   "metadata": {},
   "source": [
    "## File path"
   ]
  },
  {
   "cell_type": "code",
   "execution_count": null,
   "id": "11054a41",
   "metadata": {},
   "outputs": [],
   "source": [
    "file_path = \"/mnt/c/Users/User/Downloads/codes/sample pdf/pwc-my-centrestage-budget-2025.pdf\""
   ]
  },
  {
   "cell_type": "markdown",
   "id": "1a8f1288",
   "metadata": {},
   "source": [
    "## Extract data"
   ]
  },
  {
   "cell_type": "code",
   "execution_count": null,
   "id": "7fa3b9dd",
   "metadata": {},
   "outputs": [],
   "source": [
    "md_text = pymupdf4llm.to_markdown(file_path, pages=[5], write_images=True, image_path=\"./extracted_images\", image_size_limit=0)\n",
    "print(md_text)"
   ]
  }
 ],
 "metadata": {
  "kernelspec": {
   "display_name": "llm",
   "language": "python",
   "name": "python3"
  },
  "language_info": {
   "codemirror_mode": {
    "name": "ipython",
    "version": 3
   },
   "file_extension": ".py",
   "mimetype": "text/x-python",
   "name": "python",
   "nbconvert_exporter": "python",
   "pygments_lexer": "ipython3",
   "version": "3.11.11"
  }
 },
 "nbformat": 4,
 "nbformat_minor": 5
}
