{
 "cells": [
  {
   "cell_type": "markdown",
   "id": "ada1d033",
   "metadata": {},
   "source": [
    "# PyMuPDF4LLM testing script\n",
    "\n",
    "Extract structured data from PDf using PyMuPDF4LLM.\n",
    "\n",
    "Note: AGPL-3.0 licensed."
   ]
  },
  {
   "cell_type": "code",
   "execution_count": 1,
   "id": "a29a3e0c",
   "metadata": {},
   "outputs": [],
   "source": [
    "import pymupdf4llm"
   ]
  },
  {
   "cell_type": "markdown",
   "id": "99e8c283",
   "metadata": {},
   "source": [
    "## File path"
   ]
  },
  {
   "cell_type": "code",
   "execution_count": 2,
   "id": "11054a41",
   "metadata": {},
   "outputs": [],
   "source": [
    "file_path = \"/mnt/c/Users/User/Downloads/codes/sample pdf/pwc-my-centrestage-budget-2025.pdf\""
   ]
  },
  {
   "cell_type": "markdown",
   "id": "1a8f1288",
   "metadata": {},
   "source": [
    "## Extract data"
   ]
  },
  {
   "cell_type": "code",
   "execution_count": 6,
   "id": "7fa3b9dd",
   "metadata": {},
   "outputs": [
    {
     "name": "stdout",
     "output_type": "stream",
     "text": [
      "![](./extracted_images/pwc-my-centrestage-budget-2025.pdf-5-0.png)\n",
      "\n",
      "\n",
      "![](./extracted_images/pwc-my-centrestage-budget-2025.pdf-5-1.png)\n",
      "\n",
      "\n",
      "Global growth is expected\n",
      "\n",
      "to remain stable in the near\n",
      "\n",
      "term as inflation moderates,\n",
      "while risks arising from\n",
      "geopolitical and trade tension\n",
      "\n",
      "remains.\n",
      "\n",
      "Malaysia's growth is\n",
      "anticipated to outpace that\n",
      "of the ASEAN-5, driven by\n",
      "robust economic policies\n",
      "\n",
      "and a favourable business\n",
      "\n",
      "environment.\n",
      "\n",
      "\n",
      "![](./extracted_images/pwc-my-centrestage-budget-2025.pdf-5-2.png)\n",
      "\n",
      "\n",
      "\n",
      "![](./extracted_images/pwc-my-centrestage-budget-2025.pdf-5-3.png)\n",
      "\n",
      "\n",
      "**Continued ex** **ansion across all sectors**\n",
      "**p**\n",
      "\n",
      "\n",
      "![](./extracted_images/pwc-my-centrestage-budget-2025.pdf-5-4.png)\n",
      "\n",
      "\n",
      "![](./extracted_images/pwc-my-centrestage-budget-2025.pdf-5-5.png)\n",
      "\n",
      "\n",
      "Malaysia’s growth **by sector**\n",
      "\n",
      "\n",
      "e: Estimate; f: Forecast\n",
      "\n",
      "Source: MOF\n",
      "\n",
      "\n",
      "\n",
      "\n",
      "**Private sector continues to drive the econom**\n",
      "**y**\n",
      "\n",
      "\n",
      "There will be sustained\n",
      "\n",
      "growth across both public\n",
      "and private sectors led\n",
      "by private consumption.\n",
      "\n",
      "We continue to see sustained\n",
      "\n",
      "investment, underpinned by\n",
      "the realisation of private\n",
      "\n",
      "investments and continued\n",
      "\n",
      "public sector projects.\n",
      "\n",
      "\n",
      "Malaysia’s growth **by expenditure**\n",
      "\n",
      "![](./extracted_images/pwc-my-centrestage-budget-2025.pdf-5-6.png)\n",
      "\n",
      "e: Estimate; f: Forecast\n",
      "\n",
      "Source: MOF\n",
      "\n",
      "\n",
      "6\n",
      "\n",
      "\n",
      "-----\n",
      "\n",
      "\n"
     ]
    }
   ],
   "source": [
    "md_text = pymupdf4llm.to_markdown(file_path, pages=[5], write_images=True, image_path=\"./extracted_images\", image_size_limit=0)\n",
    "print(md_text)"
   ]
  }
 ],
 "metadata": {
  "kernelspec": {
   "display_name": "llm",
   "language": "python",
   "name": "python3"
  },
  "language_info": {
   "codemirror_mode": {
    "name": "ipython",
    "version": 3
   },
   "file_extension": ".py",
   "mimetype": "text/x-python",
   "name": "python",
   "nbconvert_exporter": "python",
   "pygments_lexer": "ipython3",
   "version": "3.11.11"
  }
 },
 "nbformat": 4,
 "nbformat_minor": 5
}
